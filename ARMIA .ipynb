{
 "cells": [
  {
   "cell_type": "code",
   "execution_count": 1,
   "id": "bff6998e",
   "metadata": {},
   "outputs": [],
   "source": [
    "import pandas as pd \n",
    "import numpy as np \n"
   ]
  },
  {
   "cell_type": "code",
   "execution_count": null,
   "id": "4420f683",
   "metadata": {},
   "outputs": [],
   "source": []
  },
  {
   "cell_type": "code",
   "execution_count": 2,
   "id": "7a52eac4",
   "metadata": {},
   "outputs": [
    {
     "data": {
      "text/html": [
       "<div>\n",
       "<style scoped>\n",
       "    .dataframe tbody tr th:only-of-type {\n",
       "        vertical-align: middle;\n",
       "    }\n",
       "\n",
       "    .dataframe tbody tr th {\n",
       "        vertical-align: top;\n",
       "    }\n",
       "\n",
       "    .dataframe thead th {\n",
       "        text-align: right;\n",
       "    }\n",
       "</style>\n",
       "<table border=\"1\" class=\"dataframe\">\n",
       "  <thead>\n",
       "    <tr style=\"text-align: right;\">\n",
       "      <th></th>\n",
       "      <th>Id</th>\n",
       "      <th>Province/State</th>\n",
       "      <th>Country/Region</th>\n",
       "      <th>Lat</th>\n",
       "      <th>Long</th>\n",
       "      <th>Date</th>\n",
       "      <th>ConfirmedCases</th>\n",
       "      <th>Fatalities</th>\n",
       "      <th>day_from_jan_first</th>\n",
       "      <th>temp</th>\n",
       "      <th>min</th>\n",
       "      <th>max</th>\n",
       "      <th>stp</th>\n",
       "      <th>slp</th>\n",
       "      <th>dewp</th>\n",
       "      <th>rh</th>\n",
       "      <th>ah</th>\n",
       "      <th>wdsp</th>\n",
       "      <th>prcp</th>\n",
       "      <th>fog</th>\n",
       "    </tr>\n",
       "  </thead>\n",
       "  <tbody>\n",
       "    <tr>\n",
       "      <th>0</th>\n",
       "      <td>1</td>\n",
       "      <td>NaN</td>\n",
       "      <td>Afghanistan</td>\n",
       "      <td>33.0</td>\n",
       "      <td>65.0</td>\n",
       "      <td>2020-01-22</td>\n",
       "      <td>0.0</td>\n",
       "      <td>0.0</td>\n",
       "      <td>22</td>\n",
       "      <td>42.6</td>\n",
       "      <td>33.6</td>\n",
       "      <td>54.9</td>\n",
       "      <td>999.9</td>\n",
       "      <td>1024.3</td>\n",
       "      <td>27.4</td>\n",
       "      <td>0.545709</td>\n",
       "      <td>0.186448</td>\n",
       "      <td>9.4</td>\n",
       "      <td>0.00</td>\n",
       "      <td>0</td>\n",
       "    </tr>\n",
       "    <tr>\n",
       "      <th>1</th>\n",
       "      <td>2</td>\n",
       "      <td>NaN</td>\n",
       "      <td>Afghanistan</td>\n",
       "      <td>33.0</td>\n",
       "      <td>65.0</td>\n",
       "      <td>2020-01-23</td>\n",
       "      <td>0.0</td>\n",
       "      <td>0.0</td>\n",
       "      <td>23</td>\n",
       "      <td>42.0</td>\n",
       "      <td>32.7</td>\n",
       "      <td>55.9</td>\n",
       "      <td>999.9</td>\n",
       "      <td>1020.8</td>\n",
       "      <td>22.8</td>\n",
       "      <td>0.461259</td>\n",
       "      <td>0.163225</td>\n",
       "      <td>14.9</td>\n",
       "      <td>99.99</td>\n",
       "      <td>1</td>\n",
       "    </tr>\n",
       "    <tr>\n",
       "      <th>2</th>\n",
       "      <td>3</td>\n",
       "      <td>NaN</td>\n",
       "      <td>Afghanistan</td>\n",
       "      <td>33.0</td>\n",
       "      <td>65.0</td>\n",
       "      <td>2020-01-24</td>\n",
       "      <td>0.0</td>\n",
       "      <td>0.0</td>\n",
       "      <td>24</td>\n",
       "      <td>40.1</td>\n",
       "      <td>36.9</td>\n",
       "      <td>43.2</td>\n",
       "      <td>999.9</td>\n",
       "      <td>1018.6</td>\n",
       "      <td>34.5</td>\n",
       "      <td>0.801794</td>\n",
       "      <td>0.325375</td>\n",
       "      <td>10.4</td>\n",
       "      <td>0.17</td>\n",
       "      <td>1</td>\n",
       "    </tr>\n",
       "    <tr>\n",
       "      <th>3</th>\n",
       "      <td>4</td>\n",
       "      <td>NaN</td>\n",
       "      <td>Afghanistan</td>\n",
       "      <td>33.0</td>\n",
       "      <td>65.0</td>\n",
       "      <td>2020-01-25</td>\n",
       "      <td>0.0</td>\n",
       "      <td>0.0</td>\n",
       "      <td>25</td>\n",
       "      <td>46.0</td>\n",
       "      <td>37.9</td>\n",
       "      <td>56.3</td>\n",
       "      <td>999.9</td>\n",
       "      <td>1018.0</td>\n",
       "      <td>37.8</td>\n",
       "      <td>0.728175</td>\n",
       "      <td>0.214562</td>\n",
       "      <td>6.1</td>\n",
       "      <td>0.57</td>\n",
       "      <td>1</td>\n",
       "    </tr>\n",
       "    <tr>\n",
       "      <th>4</th>\n",
       "      <td>5</td>\n",
       "      <td>NaN</td>\n",
       "      <td>Afghanistan</td>\n",
       "      <td>33.0</td>\n",
       "      <td>65.0</td>\n",
       "      <td>2020-01-26</td>\n",
       "      <td>0.0</td>\n",
       "      <td>0.0</td>\n",
       "      <td>26</td>\n",
       "      <td>42.8</td>\n",
       "      <td>36.1</td>\n",
       "      <td>53.1</td>\n",
       "      <td>999.9</td>\n",
       "      <td>1014.8</td>\n",
       "      <td>33.2</td>\n",
       "      <td>0.685513</td>\n",
       "      <td>0.231656</td>\n",
       "      <td>10.8</td>\n",
       "      <td>0.00</td>\n",
       "      <td>1</td>\n",
       "    </tr>\n",
       "  </tbody>\n",
       "</table>\n",
       "</div>"
      ],
      "text/plain": [
       "   Id Province/State Country/Region   Lat  Long        Date  ConfirmedCases  \\\n",
       "0   1            NaN    Afghanistan  33.0  65.0  2020-01-22             0.0   \n",
       "1   2            NaN    Afghanistan  33.0  65.0  2020-01-23             0.0   \n",
       "2   3            NaN    Afghanistan  33.0  65.0  2020-01-24             0.0   \n",
       "3   4            NaN    Afghanistan  33.0  65.0  2020-01-25             0.0   \n",
       "4   5            NaN    Afghanistan  33.0  65.0  2020-01-26             0.0   \n",
       "\n",
       "   Fatalities  day_from_jan_first  temp   min   max    stp     slp  dewp  \\\n",
       "0         0.0                  22  42.6  33.6  54.9  999.9  1024.3  27.4   \n",
       "1         0.0                  23  42.0  32.7  55.9  999.9  1020.8  22.8   \n",
       "2         0.0                  24  40.1  36.9  43.2  999.9  1018.6  34.5   \n",
       "3         0.0                  25  46.0  37.9  56.3  999.9  1018.0  37.8   \n",
       "4         0.0                  26  42.8  36.1  53.1  999.9  1014.8  33.2   \n",
       "\n",
       "         rh        ah  wdsp   prcp  fog  \n",
       "0  0.545709  0.186448   9.4   0.00    0  \n",
       "1  0.461259  0.163225  14.9  99.99    1  \n",
       "2  0.801794  0.325375  10.4   0.17    1  \n",
       "3  0.728175  0.214562   6.1   0.57    1  \n",
       "4  0.685513  0.231656  10.8   0.00    1  "
      ]
     },
     "execution_count": 2,
     "metadata": {},
     "output_type": "execute_result"
    }
   ],
   "source": [
    "df=pd.read_csv('training_data_with_weather_info_week_1.csv')\n",
    "df.head()"
   ]
  },
  {
   "cell_type": "code",
   "execution_count": 3,
   "id": "0cd2eae7",
   "metadata": {},
   "outputs": [],
   "source": [
    "# Dropping the null values in the datasets \n",
    "df=df.dropna()"
   ]
  },
  {
   "cell_type": "code",
   "execution_count": 4,
   "id": "7bd4b692",
   "metadata": {},
   "outputs": [
    {
     "data": {
      "text/html": [
       "<div>\n",
       "<style scoped>\n",
       "    .dataframe tbody tr th:only-of-type {\n",
       "        vertical-align: middle;\n",
       "    }\n",
       "\n",
       "    .dataframe tbody tr th {\n",
       "        vertical-align: top;\n",
       "    }\n",
       "\n",
       "    .dataframe thead th {\n",
       "        text-align: right;\n",
       "    }\n",
       "</style>\n",
       "<table border=\"1\" class=\"dataframe\">\n",
       "  <thead>\n",
       "    <tr style=\"text-align: right;\">\n",
       "      <th></th>\n",
       "      <th>Id</th>\n",
       "      <th>Province/State</th>\n",
       "      <th>Country/Region</th>\n",
       "      <th>Lat</th>\n",
       "      <th>Long</th>\n",
       "      <th>Date</th>\n",
       "      <th>ConfirmedCases</th>\n",
       "      <th>Fatalities</th>\n",
       "      <th>day_from_jan_first</th>\n",
       "      <th>temp</th>\n",
       "      <th>min</th>\n",
       "      <th>max</th>\n",
       "      <th>stp</th>\n",
       "      <th>slp</th>\n",
       "      <th>dewp</th>\n",
       "      <th>rh</th>\n",
       "      <th>ah</th>\n",
       "      <th>wdsp</th>\n",
       "      <th>prcp</th>\n",
       "      <th>fog</th>\n",
       "    </tr>\n",
       "  </thead>\n",
       "  <tbody>\n",
       "    <tr>\n",
       "      <th>504</th>\n",
       "      <td>745</td>\n",
       "      <td>Australian Capital Territory</td>\n",
       "      <td>Australia</td>\n",
       "      <td>-35.4735</td>\n",
       "      <td>149.0124</td>\n",
       "      <td>2020-01-22</td>\n",
       "      <td>0.0</td>\n",
       "      <td>0.0</td>\n",
       "      <td>22</td>\n",
       "      <td>77.7</td>\n",
       "      <td>54.0</td>\n",
       "      <td>91.0</td>\n",
       "      <td>937.2</td>\n",
       "      <td>1002.3</td>\n",
       "      <td>42.5</td>\n",
       "      <td>0.282482</td>\n",
       "      <td>0.078943</td>\n",
       "      <td>6.5</td>\n",
       "      <td>0.00</td>\n",
       "      <td>0</td>\n",
       "    </tr>\n",
       "    <tr>\n",
       "      <th>505</th>\n",
       "      <td>746</td>\n",
       "      <td>Australian Capital Territory</td>\n",
       "      <td>Australia</td>\n",
       "      <td>-35.4735</td>\n",
       "      <td>149.0124</td>\n",
       "      <td>2020-01-23</td>\n",
       "      <td>0.0</td>\n",
       "      <td>0.0</td>\n",
       "      <td>23</td>\n",
       "      <td>68.6</td>\n",
       "      <td>57.0</td>\n",
       "      <td>90.0</td>\n",
       "      <td>938.5</td>\n",
       "      <td>1003.7</td>\n",
       "      <td>56.0</td>\n",
       "      <td>0.638922</td>\n",
       "      <td>0.163565</td>\n",
       "      <td>7.3</td>\n",
       "      <td>0.25</td>\n",
       "      <td>1</td>\n",
       "    </tr>\n",
       "    <tr>\n",
       "      <th>506</th>\n",
       "      <td>747</td>\n",
       "      <td>Australian Capital Territory</td>\n",
       "      <td>Australia</td>\n",
       "      <td>-35.4735</td>\n",
       "      <td>149.0124</td>\n",
       "      <td>2020-01-24</td>\n",
       "      <td>0.0</td>\n",
       "      <td>0.0</td>\n",
       "      <td>24</td>\n",
       "      <td>71.7</td>\n",
       "      <td>56.8</td>\n",
       "      <td>81.7</td>\n",
       "      <td>945.2</td>\n",
       "      <td>1010.9</td>\n",
       "      <td>49.7</td>\n",
       "      <td>0.454962</td>\n",
       "      <td>0.119475</td>\n",
       "      <td>5.3</td>\n",
       "      <td>0.00</td>\n",
       "      <td>0</td>\n",
       "    </tr>\n",
       "    <tr>\n",
       "      <th>507</th>\n",
       "      <td>748</td>\n",
       "      <td>Australian Capital Territory</td>\n",
       "      <td>Australia</td>\n",
       "      <td>-35.4735</td>\n",
       "      <td>149.0124</td>\n",
       "      <td>2020-01-25</td>\n",
       "      <td>0.0</td>\n",
       "      <td>0.0</td>\n",
       "      <td>25</td>\n",
       "      <td>77.6</td>\n",
       "      <td>60.3</td>\n",
       "      <td>90.0</td>\n",
       "      <td>944.9</td>\n",
       "      <td>1010.5</td>\n",
       "      <td>53.1</td>\n",
       "      <td>0.422837</td>\n",
       "      <td>0.118030</td>\n",
       "      <td>4.5</td>\n",
       "      <td>0.00</td>\n",
       "      <td>0</td>\n",
       "    </tr>\n",
       "    <tr>\n",
       "      <th>508</th>\n",
       "      <td>749</td>\n",
       "      <td>Australian Capital Territory</td>\n",
       "      <td>Australia</td>\n",
       "      <td>-35.4735</td>\n",
       "      <td>149.0124</td>\n",
       "      <td>2020-01-26</td>\n",
       "      <td>0.0</td>\n",
       "      <td>0.0</td>\n",
       "      <td>26</td>\n",
       "      <td>76.5</td>\n",
       "      <td>59.4</td>\n",
       "      <td>91.8</td>\n",
       "      <td>946.4</td>\n",
       "      <td>1012.1</td>\n",
       "      <td>51.5</td>\n",
       "      <td>0.413475</td>\n",
       "      <td>0.113989</td>\n",
       "      <td>6.1</td>\n",
       "      <td>0.00</td>\n",
       "      <td>0</td>\n",
       "    </tr>\n",
       "  </tbody>\n",
       "</table>\n",
       "</div>"
      ],
      "text/plain": [
       "      Id                Province/State Country/Region      Lat      Long  \\\n",
       "504  745  Australian Capital Territory      Australia -35.4735  149.0124   \n",
       "505  746  Australian Capital Territory      Australia -35.4735  149.0124   \n",
       "506  747  Australian Capital Territory      Australia -35.4735  149.0124   \n",
       "507  748  Australian Capital Territory      Australia -35.4735  149.0124   \n",
       "508  749  Australian Capital Territory      Australia -35.4735  149.0124   \n",
       "\n",
       "           Date  ConfirmedCases  Fatalities  day_from_jan_first  temp   min  \\\n",
       "504  2020-01-22             0.0         0.0                  22  77.7  54.0   \n",
       "505  2020-01-23             0.0         0.0                  23  68.6  57.0   \n",
       "506  2020-01-24             0.0         0.0                  24  71.7  56.8   \n",
       "507  2020-01-25             0.0         0.0                  25  77.6  60.3   \n",
       "508  2020-01-26             0.0         0.0                  26  76.5  59.4   \n",
       "\n",
       "      max    stp     slp  dewp        rh        ah  wdsp  prcp  fog  \n",
       "504  91.0  937.2  1002.3  42.5  0.282482  0.078943   6.5  0.00    0  \n",
       "505  90.0  938.5  1003.7  56.0  0.638922  0.163565   7.3  0.25    1  \n",
       "506  81.7  945.2  1010.9  49.7  0.454962  0.119475   5.3  0.00    0  \n",
       "507  90.0  944.9  1010.5  53.1  0.422837  0.118030   4.5  0.00    0  \n",
       "508  91.8  946.4  1012.1  51.5  0.413475  0.113989   6.1  0.00    0  "
      ]
     },
     "execution_count": 4,
     "metadata": {},
     "output_type": "execute_result"
    }
   ],
   "source": [
    "df.head()"
   ]
  },
  {
   "cell_type": "code",
   "execution_count": 5,
   "id": "4246cf16",
   "metadata": {},
   "outputs": [
    {
     "data": {
      "text/html": [
       "<div>\n",
       "<style scoped>\n",
       "    .dataframe tbody tr th:only-of-type {\n",
       "        vertical-align: middle;\n",
       "    }\n",
       "\n",
       "    .dataframe tbody tr th {\n",
       "        vertical-align: top;\n",
       "    }\n",
       "\n",
       "    .dataframe thead th {\n",
       "        text-align: right;\n",
       "    }\n",
       "</style>\n",
       "<table border=\"1\" class=\"dataframe\">\n",
       "  <thead>\n",
       "    <tr style=\"text-align: right;\">\n",
       "      <th></th>\n",
       "      <th>Date</th>\n",
       "      <th>min</th>\n",
       "      <th>max</th>\n",
       "      <th>temp</th>\n",
       "      <th>Sunrise</th>\n",
       "      <th>Sunset</th>\n",
       "    </tr>\n",
       "  </thead>\n",
       "  <tbody>\n",
       "    <tr>\n",
       "      <th>0</th>\n",
       "      <td>2020-01-22</td>\n",
       "      <td>54.0</td>\n",
       "      <td>91.0</td>\n",
       "      <td>77.7</td>\n",
       "      <td>937.2</td>\n",
       "      <td>1002.3</td>\n",
       "    </tr>\n",
       "    <tr>\n",
       "      <th>1</th>\n",
       "      <td>2020-01-23</td>\n",
       "      <td>57.0</td>\n",
       "      <td>90.0</td>\n",
       "      <td>68.6</td>\n",
       "      <td>938.5</td>\n",
       "      <td>1003.7</td>\n",
       "    </tr>\n",
       "    <tr>\n",
       "      <th>2</th>\n",
       "      <td>2020-01-24</td>\n",
       "      <td>56.8</td>\n",
       "      <td>81.7</td>\n",
       "      <td>71.7</td>\n",
       "      <td>945.2</td>\n",
       "      <td>1010.9</td>\n",
       "    </tr>\n",
       "    <tr>\n",
       "      <th>3</th>\n",
       "      <td>2020-01-25</td>\n",
       "      <td>60.3</td>\n",
       "      <td>90.0</td>\n",
       "      <td>77.6</td>\n",
       "      <td>944.9</td>\n",
       "      <td>1010.5</td>\n",
       "    </tr>\n",
       "    <tr>\n",
       "      <th>4</th>\n",
       "      <td>2020-01-26</td>\n",
       "      <td>59.4</td>\n",
       "      <td>91.8</td>\n",
       "      <td>76.5</td>\n",
       "      <td>946.4</td>\n",
       "      <td>1012.1</td>\n",
       "    </tr>\n",
       "  </tbody>\n",
       "</table>\n",
       "</div>"
      ],
      "text/plain": [
       "         Date   min   max  temp  Sunrise  Sunset\n",
       "0  2020-01-22  54.0  91.0  77.7    937.2  1002.3\n",
       "1  2020-01-23  57.0  90.0  68.6    938.5  1003.7\n",
       "2  2020-01-24  56.8  81.7  71.7    945.2  1010.9\n",
       "3  2020-01-25  60.3  90.0  77.6    944.9  1010.5\n",
       "4  2020-01-26  59.4  91.8  76.5    946.4  1012.1"
      ]
     },
     "execution_count": 5,
     "metadata": {},
     "output_type": "execute_result"
    }
   ],
   "source": [
    "Date=df['Date']\n",
    "min1=df['min']\n",
    "max1=df['max']\n",
    "temp=df['temp']\n",
    "Sunrise=df['stp']\n",
    "Sunset=df['slp']\n",
    "l3=pd.DataFrame(list(zip(Date,min1,max1,temp,Sunrise,Sunset)),columns=['Date','min','max','temp','Sunrise','Sunset'])\n",
    "l3.head()"
   ]
  },
  {
   "cell_type": "code",
   "execution_count": 6,
   "id": "8eebb82c",
   "metadata": {},
   "outputs": [
    {
     "name": "stdout",
     "output_type": "stream",
     "text": [
      "The shape of the data (5378, 6)\n"
     ]
    }
   ],
   "source": [
    "print(\"The shape of the data\",l3.shape)"
   ]
  },
  {
   "cell_type": "code",
   "execution_count": 7,
   "id": "b8b6bdd0",
   "metadata": {},
   "outputs": [],
   "source": [
    "l3=l3.set_index('Date')"
   ]
  },
  {
   "cell_type": "code",
   "execution_count": 8,
   "id": "324ac481",
   "metadata": {},
   "outputs": [
    {
     "data": {
      "text/html": [
       "<div>\n",
       "<style scoped>\n",
       "    .dataframe tbody tr th:only-of-type {\n",
       "        vertical-align: middle;\n",
       "    }\n",
       "\n",
       "    .dataframe tbody tr th {\n",
       "        vertical-align: top;\n",
       "    }\n",
       "\n",
       "    .dataframe thead th {\n",
       "        text-align: right;\n",
       "    }\n",
       "</style>\n",
       "<table border=\"1\" class=\"dataframe\">\n",
       "  <thead>\n",
       "    <tr style=\"text-align: right;\">\n",
       "      <th></th>\n",
       "      <th>min</th>\n",
       "      <th>max</th>\n",
       "      <th>temp</th>\n",
       "      <th>Sunrise</th>\n",
       "      <th>Sunset</th>\n",
       "    </tr>\n",
       "    <tr>\n",
       "      <th>Date</th>\n",
       "      <th></th>\n",
       "      <th></th>\n",
       "      <th></th>\n",
       "      <th></th>\n",
       "      <th></th>\n",
       "    </tr>\n",
       "  </thead>\n",
       "  <tbody>\n",
       "    <tr>\n",
       "      <th>2020-01-22</th>\n",
       "      <td>54.0</td>\n",
       "      <td>91.0</td>\n",
       "      <td>77.7</td>\n",
       "      <td>937.2</td>\n",
       "      <td>1002.3</td>\n",
       "    </tr>\n",
       "    <tr>\n",
       "      <th>2020-01-23</th>\n",
       "      <td>57.0</td>\n",
       "      <td>90.0</td>\n",
       "      <td>68.6</td>\n",
       "      <td>938.5</td>\n",
       "      <td>1003.7</td>\n",
       "    </tr>\n",
       "    <tr>\n",
       "      <th>2020-01-24</th>\n",
       "      <td>56.8</td>\n",
       "      <td>81.7</td>\n",
       "      <td>71.7</td>\n",
       "      <td>945.2</td>\n",
       "      <td>1010.9</td>\n",
       "    </tr>\n",
       "    <tr>\n",
       "      <th>2020-01-25</th>\n",
       "      <td>60.3</td>\n",
       "      <td>90.0</td>\n",
       "      <td>77.6</td>\n",
       "      <td>944.9</td>\n",
       "      <td>1010.5</td>\n",
       "    </tr>\n",
       "    <tr>\n",
       "      <th>2020-01-26</th>\n",
       "      <td>59.4</td>\n",
       "      <td>91.8</td>\n",
       "      <td>76.5</td>\n",
       "      <td>946.4</td>\n",
       "      <td>1012.1</td>\n",
       "    </tr>\n",
       "  </tbody>\n",
       "</table>\n",
       "</div>"
      ],
      "text/plain": [
       "             min   max  temp  Sunrise  Sunset\n",
       "Date                                         \n",
       "2020-01-22  54.0  91.0  77.7    937.2  1002.3\n",
       "2020-01-23  57.0  90.0  68.6    938.5  1003.7\n",
       "2020-01-24  56.8  81.7  71.7    945.2  1010.9\n",
       "2020-01-25  60.3  90.0  77.6    944.9  1010.5\n",
       "2020-01-26  59.4  91.8  76.5    946.4  1012.1"
      ]
     },
     "execution_count": 8,
     "metadata": {},
     "output_type": "execute_result"
    }
   ],
   "source": [
    "l3.head()"
   ]
  },
  {
   "cell_type": "code",
   "execution_count": 9,
   "id": "0a2f55f8",
   "metadata": {},
   "outputs": [
    {
     "data": {
      "text/plain": [
       "<AxesSubplot:xlabel='Date'>"
      ]
     },
     "execution_count": 9,
     "metadata": {},
     "output_type": "execute_result"
    },
    {
     "data": {
      "image/png": "[encoded data removed]",
      "text/plain": [
       "<Figure size 864x360 with 1 Axes>"
      ]
     },
     "metadata": {
      "needs_background": "light"
     },
     "output_type": "display_data"
    }
   ],
   "source": [
    "l3['temp'].plot(figsize=(12,5))"
   ]
  },
  {
   "cell_type": "code",
   "execution_count": 10,
   "id": "4cff4466",
   "metadata": {},
   "outputs": [],
   "source": [
    "# Check for stationarity"
   ]
  },
  {
   "cell_type": "code",
   "execution_count": 12,
   "id": "1dbc43bd",
   "metadata": {},
   "outputs": [],
   "source": [
    "from statsmodels.tsa.stattools import adfuller"
   ]
  },
  {
   "cell_type": "code",
   "execution_count": 13,
   "id": "96c25a44",
   "metadata": {},
   "outputs": [],
   "source": [
    "def ad_test(dataset):\n",
    "    dftest=adfuller(dataset,autolag='AIC')\n",
    "    print(\"1 ADF :\",dftest[0])\n",
    "    print(\"2 P-value :\",dftest[1])\n",
    "    print(\"3 Num of logs :\",dftest[2])\n",
    "    print(\"4 Num og observations used for ADF regression  and Critical Values Calculation\",dftest[3])\n",
    "    print(\"5 Crticial Values :\")\n",
    "    for key,val in dftest[4].items():\n",
    "        print(\"\\t\",key,\":\",val)\n",
    "    "
   ]
  },
  {
   "cell_type": "code",
   "execution_count": 14,
   "id": "2ae9416a",
   "metadata": {},
   "outputs": [
    {
     "name": "stdout",
     "output_type": "stream",
     "text": [
      "1 ADF : -5.7550651423006\n",
      "2 P-value : 5.845588054089869e-07\n",
      "3 Num of logs : 32\n",
      "4 Num og observations used for ADF regression  and Critical Values Calculation 5345\n",
      "5 Crticial Values :\n",
      "\t 1% : -3.431574030549211\n",
      "\t 5% : -2.862080896827635\n",
      "\t 10% : -2.567057918716162\n"
     ]
    }
   ],
   "source": [
    "ad_test(l3['temp'])"
   ]
  },
  {
   "cell_type": "code",
   "execution_count": 15,
   "id": "4d153ce0",
   "metadata": {},
   "outputs": [],
   "source": [
    "# Figure out the order of arima model \n",
    "from pmdarima import auto_arima\n",
    "import warnings\n",
    "warnings.filterwarnings(\"ignore\")\n"
   ]
  },
  {
   "cell_type": "code",
   "execution_count": 16,
   "id": "1a3e38cd",
   "metadata": {},
   "outputs": [],
   "source": [
    "import statsmodels.api as sm\n",
    " #SPLIT THE DATA INTO TRAINING AND TESTING"
   ]
  },
  {
   "cell_type": "code",
   "execution_count": 17,
   "id": "d4134466",
   "metadata": {},
   "outputs": [
    {
     "name": "stdout",
     "output_type": "stream",
     "text": [
      "(5378, 5)\n",
      "(5348, 5) (30, 5)\n"
     ]
    }
   ],
   "source": [
    "print(l3.shape)\n",
    "train=l3.iloc[:-30]\n",
    "test=l3.iloc[-30:]\n",
    "print(train.shape,test.shape)"
   ]
  },
  {
   "cell_type": "code",
   "execution_count": 18,
   "id": "5ed3da75",
   "metadata": {},
   "outputs": [
    {
     "data": {
      "text/html": [
       "<table class=\"simpletable\">\n",
       "<caption>SARIMAX Results</caption>\n",
       "<tr>\n",
       "  <th>Dep. Variable:</th>         <td>temp</td>       <th>  No. Observations:  </th>    <td>5348</td>   \n",
       "</tr>\n",
       "<tr>\n",
       "  <th>Model:</th>            <td>ARIMA(1, 0, 5)</td>  <th>  Log Likelihood     </th> <td>-17673.982</td>\n",
       "</tr>\n",
       "<tr>\n",
       "  <th>Date:</th>            <td>Tue, 11 Oct 2022</td> <th>  AIC                </th>  <td>35363.963</td>\n",
       "</tr>\n",
       "<tr>\n",
       "  <th>Time:</th>                <td>23:31:08</td>     <th>  BIC                </th>  <td>35416.639</td>\n",
       "</tr>\n",
       "<tr>\n",
       "  <th>Sample:</th>                  <td>0</td>        <th>  HQIC               </th>  <td>35382.363</td>\n",
       "</tr>\n",
       "<tr>\n",
       "  <th></th>                      <td> - 5348</td>     <th>                     </th>      <td> </td>    \n",
       "</tr>\n",
       "<tr>\n",
       "  <th>Covariance Type:</th>        <td>opg</td>       <th>                     </th>      <td> </td>    \n",
       "</tr>\n",
       "</table>\n",
       "<table class=\"simpletable\">\n",
       "<tr>\n",
       "     <td></td>       <th>coef</th>     <th>std err</th>      <th>z</th>      <th>P>|z|</th>  <th>[0.025</th>    <th>0.975]</th>  \n",
       "</tr>\n",
       "<tr>\n",
       "  <th>const</th>  <td>   45.4765</td> <td>    4.191</td> <td>   10.850</td> <td> 0.000</td> <td>   37.261</td> <td>   53.692</td>\n",
       "</tr>\n",
       "<tr>\n",
       "  <th>ar.L1</th>  <td>    0.9888</td> <td>    0.002</td> <td>  400.102</td> <td> 0.000</td> <td>    0.984</td> <td>    0.994</td>\n",
       "</tr>\n",
       "<tr>\n",
       "  <th>ma.L1</th>  <td>   -0.0827</td> <td>    0.013</td> <td>   -6.509</td> <td> 0.000</td> <td>   -0.108</td> <td>   -0.058</td>\n",
       "</tr>\n",
       "<tr>\n",
       "  <th>ma.L2</th>  <td>   -0.2560</td> <td>    0.009</td> <td>  -28.143</td> <td> 0.000</td> <td>   -0.274</td> <td>   -0.238</td>\n",
       "</tr>\n",
       "<tr>\n",
       "  <th>ma.L3</th>  <td>   -0.0911</td> <td>    0.013</td> <td>   -6.942</td> <td> 0.000</td> <td>   -0.117</td> <td>   -0.065</td>\n",
       "</tr>\n",
       "<tr>\n",
       "  <th>ma.L4</th>  <td>   -0.0819</td> <td>    0.011</td> <td>   -7.237</td> <td> 0.000</td> <td>   -0.104</td> <td>   -0.060</td>\n",
       "</tr>\n",
       "<tr>\n",
       "  <th>ma.L5</th>  <td>   -0.0315</td> <td>    0.013</td> <td>   -2.480</td> <td> 0.013</td> <td>   -0.056</td> <td>   -0.007</td>\n",
       "</tr>\n",
       "<tr>\n",
       "  <th>sigma2</th> <td>   43.4397</td> <td>    0.385</td> <td>  112.685</td> <td> 0.000</td> <td>   42.684</td> <td>   44.195</td>\n",
       "</tr>\n",
       "</table>\n",
       "<table class=\"simpletable\">\n",
       "<tr>\n",
       "  <th>Ljung-Box (L1) (Q):</th>     <td>0.11</td> <th>  Jarque-Bera (JB):  </th> <td>42748.96</td>\n",
       "</tr>\n",
       "<tr>\n",
       "  <th>Prob(Q):</th>                <td>0.74</td> <th>  Prob(JB):          </th>   <td>0.00</td>  \n",
       "</tr>\n",
       "<tr>\n",
       "  <th>Heteroskedasticity (H):</th> <td>0.92</td> <th>  Skew:              </th>   <td>-1.61</td> \n",
       "</tr>\n",
       "<tr>\n",
       "  <th>Prob(H) (two-sided):</th>    <td>0.08</td> <th>  Kurtosis:          </th>   <td>16.47</td> \n",
       "</tr>\n",
       "</table><br/><br/>Warnings:<br/>[1] Covariance matrix calculated using the outer product of gradients (complex-step)."
      ],
      "text/plain": [
       "<class 'statsmodels.iolib.summary.Summary'>\n",
       "\"\"\"\n",
       "                               SARIMAX Results                                \n",
       "==============================================================================\n",
       "Dep. Variable:                   temp   No. Observations:                 5348\n",
       "Model:                 ARIMA(1, 0, 5)   Log Likelihood              -17673.982\n",
       "Date:                Tue, 11 Oct 2022   AIC                          35363.963\n",
       "Time:                        23:31:08   BIC                          35416.639\n",
       "Sample:                             0   HQIC                         35382.363\n",
       "                               - 5348                                         \n",
       "Covariance Type:                  opg                                         \n",
       "==============================================================================\n",
       "                 coef    std err          z      P>|z|      [0.025      0.975]\n",
       "------------------------------------------------------------------------------\n",
       "const         45.4765      4.191     10.850      0.000      37.261      53.692\n",
       "ar.L1          0.9888      0.002    400.102      0.000       0.984       0.994\n",
       "ma.L1         -0.0827      0.013     -6.509      0.000      -0.108      -0.058\n",
       "ma.L2         -0.2560      0.009    -28.143      0.000      -0.274      -0.238\n",
       "ma.L3         -0.0911      0.013     -6.942      0.000      -0.117      -0.065\n",
       "ma.L4         -0.0819      0.011     -7.237      0.000      -0.104      -0.060\n",
       "ma.L5         -0.0315      0.013     -2.480      0.013      -0.056      -0.007\n",
       "sigma2        43.4397      0.385    112.685      0.000      42.684      44.195\n",
       "===================================================================================\n",
       "Ljung-Box (L1) (Q):                   0.11   Jarque-Bera (JB):             42748.96\n",
       "Prob(Q):                              0.74   Prob(JB):                         0.00\n",
       "Heteroskedasticity (H):               0.92   Skew:                            -1.61\n",
       "Prob(H) (two-sided):                  0.08   Kurtosis:                        16.47\n",
       "===================================================================================\n",
       "\n",
       "Warnings:\n",
       "[1] Covariance matrix calculated using the outer product of gradients (complex-step).\n",
       "\"\"\""
      ]
     },
     "execution_count": 18,
     "metadata": {},
     "output_type": "execute_result"
    }
   ],
   "source": [
    "## Train the model\n",
    "model=sm.tsa.arima.ARIMA(train['temp'],order=(1,0,5))\n",
    "model=model.fit()\n",
    "model.summary()"
   ]
  },
  {
   "cell_type": "code",
   "execution_count": 19,
   "id": "b3f07ff6",
   "metadata": {},
   "outputs": [
    {
     "name": "stdout",
     "output_type": "stream",
     "text": [
      "5348    45.262666\n",
      "5349    45.464652\n",
      "5350    45.280075\n",
      "5351    45.318543\n",
      "5352    45.405724\n",
      "5353    45.406514\n",
      "5354    45.407295\n",
      "5355    45.408067\n",
      "5356    45.408831\n",
      "5357    45.409587\n",
      "5358    45.410334\n",
      "5359    45.411072\n",
      "5360    45.411803\n",
      "5361    45.412525\n",
      "5362    45.413239\n",
      "5363    45.413945\n",
      "5364    45.414643\n",
      "5365    45.415334\n",
      "5366    45.416017\n",
      "5367    45.416692\n",
      "5368    45.417359\n",
      "5369    45.418020\n",
      "5370    45.418672\n",
      "5371    45.419318\n",
      "5372    45.419956\n",
      "5373    45.420587\n",
      "5374    45.421211\n",
      "5375    45.421829\n",
      "5376    45.422439\n",
      "5377    45.423042\n",
      "Name: predicted_mean, dtype: float64\n"
     ]
    }
   ],
   "source": [
    "start=len(train)\n",
    "end=len(train)+len(test)-1\n",
    "pred=model.predict(start=start,end=end,type='levels')\n",
    "print(pred)"
   ]
  },
  {
   "cell_type": "code",
   "execution_count": 20,
   "id": "08e11da3",
   "metadata": {},
   "outputs": [
    {
     "data": {
      "text/plain": [
       "<AxesSubplot:xlabel='Date'>"
      ]
     },
     "execution_count": 20,
     "metadata": {},
     "output_type": "execute_result"
    },
    {
     "data": {
      "image/png": "[encoded data removed]",
      "text/plain": [
       "<Figure size 432x288 with 1 Axes>"
      ]
     },
     "metadata": {
      "needs_background": "light"
     },
     "output_type": "display_data"
    }
   ],
   "source": [
    "pred.plot(legend=True)\n",
    "test['temp'].plot(legend=True)"
   ]
  },
  {
   "cell_type": "code",
   "execution_count": 21,
   "id": "6a211ad5",
   "metadata": {},
   "outputs": [
    {
     "data": {
      "text/plain": [
       "43.38666666666667"
      ]
     },
     "execution_count": 21,
     "metadata": {},
     "output_type": "execute_result"
    }
   ],
   "source": [
    " test['temp'].mean()"
   ]
  },
  {
   "cell_type": "code",
   "execution_count": 22,
   "id": "a1d93a80",
   "metadata": {},
   "outputs": [
    {
     "name": "stdout",
     "output_type": "stream",
     "text": [
      "4.400855314597735\n"
     ]
    }
   ],
   "source": [
    "from sklearn.metrics import mean_squared_error\n",
    "from math import sqrt\n",
    "rsme=sqrt(mean_squared_error(pred,test['temp']))\n",
    "print(rsme)"
   ]
  },
  {
   "cell_type": "code",
   "execution_count": 26,
   "id": "3f2a00ed",
   "metadata": {},
   "outputs": [
    {
     "data": {
      "text/html": [
       "<div>\n",
       "<style scoped>\n",
       "    .dataframe tbody tr th:only-of-type {\n",
       "        vertical-align: middle;\n",
       "    }\n",
       "\n",
       "    .dataframe tbody tr th {\n",
       "        vertical-align: top;\n",
       "    }\n",
       "\n",
       "    .dataframe thead th {\n",
       "        text-align: right;\n",
       "    }\n",
       "</style>\n",
       "<table border=\"1\" class=\"dataframe\">\n",
       "  <thead>\n",
       "    <tr style=\"text-align: right;\">\n",
       "      <th></th>\n",
       "      <th>min</th>\n",
       "      <th>max</th>\n",
       "      <th>temp</th>\n",
       "      <th>Sunrise</th>\n",
       "      <th>Sunset</th>\n",
       "    </tr>\n",
       "    <tr>\n",
       "      <th>Date</th>\n",
       "      <th></th>\n",
       "      <th></th>\n",
       "      <th></th>\n",
       "      <th></th>\n",
       "      <th></th>\n",
       "    </tr>\n",
       "  </thead>\n",
       "  <tbody>\n",
       "    <tr>\n",
       "      <th>2020-03-20</th>\n",
       "      <td>40.8</td>\n",
       "      <td>46.8</td>\n",
       "      <td>43.1</td>\n",
       "      <td>23.2</td>\n",
       "      <td>1029.7</td>\n",
       "    </tr>\n",
       "    <tr>\n",
       "      <th>2020-03-21</th>\n",
       "      <td>39.2</td>\n",
       "      <td>45.3</td>\n",
       "      <td>42.0</td>\n",
       "      <td>22.0</td>\n",
       "      <td>1028.5</td>\n",
       "    </tr>\n",
       "    <tr>\n",
       "      <th>2020-03-22</th>\n",
       "      <td>33.6</td>\n",
       "      <td>45.5</td>\n",
       "      <td>40.4</td>\n",
       "      <td>22.2</td>\n",
       "      <td>1028.8</td>\n",
       "    </tr>\n",
       "    <tr>\n",
       "      <th>2020-03-23</th>\n",
       "      <td>35.6</td>\n",
       "      <td>48.0</td>\n",
       "      <td>41.8</td>\n",
       "      <td>21.6</td>\n",
       "      <td>1028.1</td>\n",
       "    </tr>\n",
       "    <tr>\n",
       "      <th>2020-03-24</th>\n",
       "      <td>33.3</td>\n",
       "      <td>50.9</td>\n",
       "      <td>42.0</td>\n",
       "      <td>19.9</td>\n",
       "      <td>1026.5</td>\n",
       "    </tr>\n",
       "  </tbody>\n",
       "</table>\n",
       "</div>"
      ],
      "text/plain": [
       "             min   max  temp  Sunrise  Sunset\n",
       "Date                                         \n",
       "2020-03-20  40.8  46.8  43.1     23.2  1029.7\n",
       "2020-03-21  39.2  45.3  42.0     22.0  1028.5\n",
       "2020-03-22  33.6  45.5  40.4     22.2  1028.8\n",
       "2020-03-23  35.6  48.0  41.8     21.6  1028.1\n",
       "2020-03-24  33.3  50.9  42.0     19.9  1026.5"
      ]
     },
     "execution_count": 26,
     "metadata": {},
     "output_type": "execute_result"
    }
   ],
   "source": [
    "model2=sm.tsa.arima.ARIMA(l3['temp'],order=(1,0,5))\n",
    "model2=model2.fit()\n",
    "l3.tail()"
   ]
  },
  {
   "cell_type": "code",
   "execution_count": 36,
   "id": "de88e1a1",
   "metadata": {},
   "outputs": [
    {
     "name": "stdout",
     "output_type": "stream",
     "text": [
      "5378    42.406426\n",
      "5379    42.841526\n",
      "5380    42.982924\n",
      "5381    43.062894\n",
      "5382    43.112858\n",
      "5383    43.139108\n",
      "5384    43.165065\n",
      "5385    43.190733\n",
      "5386    43.216113\n",
      "5387    43.241210\n",
      "5388    43.266026\n",
      "5389    43.290566\n",
      "5390    43.314831\n",
      "5391    43.338826\n",
      "5392    43.362552\n",
      "5393    43.386013\n",
      "5394    43.409212\n",
      "5395    43.432153\n",
      "5396    43.454836\n",
      "5397    43.477267\n",
      "5398    43.499447\n",
      "5399    43.521379\n",
      "5400    43.543067\n",
      "5401    43.564512\n",
      "5402    43.585717\n",
      "5403    43.606686\n",
      "5404    43.627421\n",
      "5405    43.647924\n",
      "5406    43.668198\n",
      "5407    43.688245\n",
      "5408    43.708069\n",
      "5409    43.727671\n",
      "5410    43.747054\n",
      "5411    43.766221\n",
      "5412    43.785173\n",
      "5413    43.803914\n",
      "5414    43.822446\n",
      "5415    43.840771\n",
      "5416    43.858891\n",
      "5417    43.876808\n",
      "5418    43.894526\n",
      "Name: ARIMA Predictions, dtype: float64\n"
     ]
    }
   ],
   "source": [
    "# For Future Dates\n",
    "index_future_dates=pd.date_range(start='2020-12-20',end='2021-01-29')\n",
    "pred=model2.predict(start=len(l3),end=len(l3)+40,type='levels').rename('ARIMA Predictions')\n",
    "print(pred)\n",
    "pred.index=index_future_dates"
   ]
  },
  {
   "cell_type": "code",
   "execution_count": 37,
   "id": "ffabef88",
   "metadata": {},
   "outputs": [
    {
     "data": {
      "text/plain": [
       "<AxesSubplot:>"
      ]
     },
     "execution_count": 37,
     "metadata": {},
     "output_type": "execute_result"
    },
    {
     "data": {
      "image/png": "[encoded data removed]",
      "text/plain": [
       "<Figure size 864x360 with 1 Axes>"
      ]
     },
     "metadata": {
      "needs_background": "light"
     },
     "output_type": "display_data"
    }
   ],
   "source": [
    "\n",
    "pred.plot(figsize=(12,5),legend=True)"
   ]
  },
  {
   "cell_type": "code",
   "execution_count": null,
   "id": "bc285323",
   "metadata": {},
   "outputs": [],
   "source": []
  }
 ],
 "metadata": {
  "kernelspec": {
   "display_name": "Python 3 (ipykernel)",
   "language": "python",
   "name": "python3"
  },
  "language_info": {
   "codemirror_mode": {
    "name": "ipython",
    "version": 3
   },
   "file_extension": ".py",
   "mimetype": "text/x-python",
   "name": "python",
   "nbconvert_exporter": "python",
   "pygments_lexer": "ipython3",
   "version": "3.9.7"
  }
 },
 "nbformat": 4,
 "nbformat_minor": 5
}
